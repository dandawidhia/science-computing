{
  "nbformat": 4,
  "nbformat_minor": 0,
  "metadata": {
    "colab": {
      "provenance": [],
      "authorship_tag": "ABX9TyNA/IsXmShtBsM1HFJeGLj+",
      "include_colab_link": true
    },
    "kernelspec": {
      "name": "python3",
      "display_name": "Python 3"
    },
    "language_info": {
      "name": "python"
    }
  },
  "cells": [
    {
      "cell_type": "markdown",
      "metadata": {
        "id": "view-in-github",
        "colab_type": "text"
      },
      "source": [
        "<a href=\"https://colab.research.google.com/github/dandawidhia/science-computing/blob/main/SC_Lab_Sesi2.ipynb\" target=\"_parent\"><img src=\"https://colab.research.google.com/assets/colab-badge.svg\" alt=\"Open In Colab\"/></a>"
      ]
    },
    {
      "cell_type": "code",
      "execution_count": null,
      "metadata": {
        "id": "O4jKsK78CraY"
      },
      "outputs": [],
      "source": [
        "import numpy as np\n",
        "a = [[8,3,-3], [-2,-8,5], [3,5,10]]"
      ]
    },
    {
      "cell_type": "code",
      "source": [
        "#Find diagonal coefficients\n",
        "diag = np.diag(np.abs(a))"
      ],
      "metadata": {
        "id": "NR3Bf1yVC7vG"
      },
      "execution_count": null,
      "outputs": []
    },
    {
      "cell_type": "code",
      "source": [
        "#Find row sum without diagonal\n",
        "off_diag = np.sum(np.abs(a), axis =1) - diag"
      ],
      "metadata": {
        "id": "ELmL3A9pDHdG"
      },
      "execution_count": null,
      "outputs": []
    },
    {
      "cell_type": "code",
      "source": [
        "if np.all (diag>off_diag) :\n",
        "  print ('matrix is diagonally dominant')\n",
        "else :\n",
        "  print ('NOT diagonally dominant')"
      ],
      "metadata": {
        "colab": {
          "base_uri": "https://localhost:8080/"
        },
        "id": "9R9jA-NFDQf1",
        "outputId": "c9733881-eca6-41f3-9504-69743eb5739d"
      },
      "execution_count": null,
      "outputs": [
        {
          "output_type": "stream",
          "name": "stdout",
          "text": [
            "matrix is diagonally dominant\n"
          ]
        }
      ]
    },
    {
      "cell_type": "code",
      "source": [
        "x1 = 0\n",
        "x2 = 0\n",
        "x3 = 0\n",
        "epsilon = 0.01\n",
        "converged = False\n",
        "\n",
        "x_old = np.array ([x1, x2 ,x3])"
      ],
      "metadata": {
        "id": "56Dgz0lpDg9W"
      },
      "execution_count": null,
      "outputs": []
    },
    {
      "cell_type": "code",
      "source": [
        "print ('iteration result')\n",
        "print ('k,   x1,    x2,     x3 ')\n",
        "for k in range (1, 50):\n",
        "  x1 = (14-3*x2+3*x3)/8\n",
        "  x2 = (5+2*x1-5*x3)/(-8)\n",
        "  x3 = (-8-3*x1-5*x2)/(10)\n",
        "  x = np.array ([x1,x2,x3])\n",
        "\n",
        "  #check if it is smaller than threshold\n",
        "  dx = np.sqrt (np.dot(x-x_old, x-x_old))\n",
        "  \n",
        "  print (\"%d, %.4f, %.4f, %.4f\"%(k,x1,x2,x3))\n",
        "  if dx < epsilon :\n",
        "    converged = True\n",
        "    print ('Converged')\n",
        "    break\n",
        "\n",
        "  #assign the latest x value to the old value\n",
        "  x_old = x\n",
        "\n",
        "if not converged :\n",
        "  print ('Not converge, increase #of iterations')"
      ],
      "metadata": {
        "colab": {
          "base_uri": "https://localhost:8080/"
        },
        "id": "BJTTrU1sD4QP",
        "outputId": "8e175c3d-f054-44fc-c698-19be25b79c3f"
      },
      "execution_count": null,
      "outputs": [
        {
          "output_type": "stream",
          "name": "stdout",
          "text": [
            "iteration result\n",
            "k,   x1,    x2,     x3 \n",
            "1, 1.7500, -1.0625, -0.7937\n",
            "2, 1.8508, -1.5838, -0.5633\n",
            "3, 2.1327, -1.5103, -0.6847\n",
            "4, 2.0596, -1.5678, -0.6340\n",
            "5, 2.1002, -1.5463, -0.6569\n",
            "6, 2.0835, -1.5565, -0.6468\n",
            "7, 2.0911, -1.5520, -0.6513\n",
            "Converged\n"
          ]
        }
      ]
    },
    {
      "cell_type": "code",
      "source": [
        "import numpy as np\n",
        "\n",
        "A = np.array([[4,3,-5],\n",
        "              [-2,-4,5],\n",
        "              [8,8,0]])\n",
        "y = np.array([2,5,-3])\n",
        "\n",
        "x = np.linalg.solve(A, y)\n",
        "print(x)"
      ],
      "metadata": {
        "colab": {
          "base_uri": "https://localhost:8080/"
        },
        "id": "d4BrSm1aKU-8",
        "outputId": "d9f0d3d8-dd8a-40e5-a9ce-d160d4ced45a"
      },
      "execution_count": null,
      "outputs": [
        {
          "output_type": "stream",
          "name": "stdout",
          "text": [
            "[ 2.20833333 -2.58333333 -0.18333333]\n"
          ]
        }
      ]
    },
    {
      "cell_type": "code",
      "source": [
        "A_inv = np.linalg.inv(A)\n",
        "\n",
        "x = np.dot(A_inv, y)\n",
        "print (x)"
      ],
      "metadata": {
        "colab": {
          "base_uri": "https://localhost:8080/"
        },
        "id": "eQoX2JA5LQLg",
        "outputId": "ee08cd5d-6935-42a5-e195-40c5d0608873"
      },
      "execution_count": null,
      "outputs": [
        {
          "output_type": "stream",
          "name": "stdout",
          "text": [
            "[ 2.20833333 -2.58333333 -0.18333333]\n"
          ]
        }
      ]
    },
    {
      "cell_type": "code",
      "source": [
        "import numpy as np\n",
        "from scipy import optimize\n",
        "import matplotlib.pyplot as plt\n",
        "\n",
        "plt.style.use('seaborn-poster')\n",
        "#generate x and y\n",
        "x = np.linspace(0, 1, 101)\n",
        "y = 1 + x + x + np.random.random (len(x))\n",
        "\n",
        "#assemble matrix x\n",
        "A = np.vstack([x, np.ones(len(x))]).T\n",
        "\n",
        "#assemble matrix A\n",
        "Y = y[:, np.newaxis]\n",
        "\n",
        "#direct least square regression\n",
        "alpha = np.dot((np.dot(np.linalg.inv(np.dot(A.T,A)), A.T)),y)\n",
        "print (alpha)"
      ],
      "metadata": {
        "colab": {
          "base_uri": "https://localhost:8080/"
        },
        "id": "PVN_367YMxmR",
        "outputId": "22c8b2ca-bbc0-40f1-8e7b-29d2c263112b"
      },
      "execution_count": null,
      "outputs": [
        {
          "output_type": "stream",
          "name": "stdout",
          "text": [
            "[2.06637922 1.50645192]\n"
          ]
        }
      ]
    },
    {
      "cell_type": "code",
      "source": [
        "#plot the results\n",
        "plt.figure (figsize = (10,8))\n",
        "plt.plot (x, y, 'b.')\n",
        "plt.plot (x, alpha[0]*x + alpha[1], 'r')\n",
        "plt.xlabel('x')\n",
        "plt.ylabel('y')\n",
        "plt.show()"
      ],
      "metadata": {
        "colab": {
          "base_uri": "https://localhost:8080/",
          "height": 521
        },
        "id": "-5GUeKBFOgAY",
        "outputId": "7eeccbec-146d-4b4d-e9a9-e57d96321141"
      },
      "execution_count": null,
      "outputs": [
        {
          "output_type": "display_data",
          "data": {
            "text/plain": [
              "<Figure size 720x576 with 1 Axes>"
            ],
            "image/png": "[encoded data removed]"
          },
          "metadata": {
            "needs_background": "light"
          }
        }
      ]
    }
  ]
}